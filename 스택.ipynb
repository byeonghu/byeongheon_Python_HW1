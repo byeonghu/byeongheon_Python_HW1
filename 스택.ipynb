{
 "cells": [
  {
   "cell_type": "code",
   "execution_count": 10,
   "id": "2bb64f55",
   "metadata": {},
   "outputs": [
    {
     "ename": "FileNotFoundError",
     "evalue": "[Errno 2] No such file or directory: '진달래꽃.txt'",
     "output_type": "error",
     "traceback": [
      "\u001b[0;31m---------------------------------------------------------------------------\u001b[0m",
      "\u001b[0;31mFileNotFoundError\u001b[0m                         Traceback (most recent call last)",
      "Cell \u001b[0;32mIn [10], line 44\u001b[0m\n\u001b[1;32m     41\u001b[0m top \u001b[38;5;241m=\u001b[39m \u001b[38;5;241m-\u001b[39m\u001b[38;5;241m1\u001b[39m\n\u001b[1;32m     43\u001b[0m \u001b[38;5;28;01mif\u001b[39;00m \u001b[38;5;18m__name__\u001b[39m\u001b[38;5;241m==\u001b[39m\u001b[38;5;124m\"\u001b[39m\u001b[38;5;124m__main__\u001b[39m\u001b[38;5;124m\"\u001b[39m:\n\u001b[0;32m---> 44\u001b[0m     \u001b[38;5;28;01mwith\u001b[39;00m \u001b[38;5;28;43mopen\u001b[39;49m\u001b[43m(\u001b[49m\u001b[38;5;124;43m\"\u001b[39;49m\u001b[38;5;124;43m진달래꽃.txt\u001b[39;49m\u001b[38;5;124;43m\"\u001b[39;49m\u001b[43m,\u001b[49m\u001b[38;5;124;43m'\u001b[39;49m\u001b[38;5;124;43mr\u001b[39;49m\u001b[38;5;124;43m'\u001b[39;49m\u001b[43m,\u001b[49m\u001b[43m \u001b[49m\u001b[43mencoding\u001b[49m\u001b[38;5;241;43m=\u001b[39;49m\u001b[38;5;124;43m'\u001b[39;49m\u001b[38;5;124;43mUTF8\u001b[39;49m\u001b[38;5;124;43m'\u001b[39;49m\u001b[43m)\u001b[49m \u001b[38;5;28;01mas\u001b[39;00m rfp :\n\u001b[1;32m     45\u001b[0m         lineAry \u001b[38;5;241m=\u001b[39m rfp\u001b[38;5;241m.\u001b[39mreadlines()\n\u001b[1;32m     47\u001b[0m     \u001b[38;5;28mprint\u001b[39m(\u001b[38;5;124m\"\u001b[39m\u001b[38;5;124m--원본----\u001b[39m\u001b[38;5;124m\"\u001b[39m)\n",
      "\u001b[0;31mFileNotFoundError\u001b[0m: [Errno 2] No such file or directory: '진달래꽃.txt'"
     ]
    }
   ],
   "source": [
    "def isStackFull() :\n",
    "    global SIZE, stack, top \n",
    "    if (top >= SIZE-1):\n",
    "        return True \n",
    "    \n",
    "    else:\n",
    "        return False\n",
    "\n",
    "def isStackEmpty():\n",
    "    global SIZE, stack, top \n",
    "    if (top == -1):\n",
    "        return True \n",
    "    else:\n",
    "        return False\n",
    "\n",
    "def push(data) :\n",
    "    global SIZE, stack, top\n",
    "    if (isStackFull()):\n",
    "        return\n",
    "    top += 1\n",
    "    stack[top] = data\n",
    "    \n",
    "    \n",
    "def pop() :\n",
    "    global SIZE, stack, top \n",
    "    if (isStackEmpty()) :\n",
    "        return None\n",
    "    data = stack[top]\n",
    "    stack[top] = None\n",
    "    top -= 1\n",
    "    return data\n",
    "\n",
    "def peek() :\n",
    "    global SIZE, stack, top\n",
    "    if (isStackEmpty()) :\n",
    "        return None\n",
    "    return stack[top]\n",
    "\n",
    "SIZE = 100\n",
    "stack = [None for _ in range(SIZE)]\n",
    "top = -1\n",
    "\n",
    "if __name__==\"__main__\":\n",
    "    with open(\"진달래꽃.txt\",'r', encoding='UTF8') as rfp :\n",
    "        lineAry = rfp.readlines()\n",
    "\n",
    "    print(\"--원본----\")\n",
    "    for line in lineAry :\n",
    "        push(line)\n",
    "        print(line, end = ' ')\n",
    "    print()\n",
    "\n",
    "    print(\"-- 거꾸로 처리된 결과 ---\")\n",
    "    while True:\n",
    "        line = pop()\n",
    "        if line == None :\n",
    "            break\n",
    "        miniStack = [None for _ in range(len(line))]\n",
    "        miniTop= -1\n",
    "              \n",
    "    \n",
    "\n",
    "\n",
    "    "
   ]
  },
  {
   "cell_type": "code",
   "execution_count": null,
   "id": "cd447e28",
   "metadata": {},
   "outputs": [],
   "source": []
  }
 ],
 "metadata": {
  "kernelspec": {
   "display_name": "Python 3 (ipykernel)",
   "language": "python",
   "name": "python3"
  },
  "language_info": {
   "codemirror_mode": {
    "name": "ipython",
    "version": 3
   },
   "file_extension": ".py",
   "mimetype": "text/x-python",
   "name": "python",
   "nbconvert_exporter": "python",
   "pygments_lexer": "ipython3",
   "version": "3.10.7"
  }
 },
 "nbformat": 4,
 "nbformat_minor": 5
}
