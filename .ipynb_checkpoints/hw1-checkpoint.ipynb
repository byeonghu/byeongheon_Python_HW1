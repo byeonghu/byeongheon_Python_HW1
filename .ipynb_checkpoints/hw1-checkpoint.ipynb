{
 "cells": [
  {
   "cell_type": "code",
   "execution_count": 1,
   "id": "dae51ccd",
   "metadata": {},
   "outputs": [
    {
     "name": "stdout",
     "output_type": "stream",
     "text": [
      "선택하세요(1:추가, 2:삭제, 3:종료)-->1\n",
      "추가할 데이터-->('다현',200)\n",
      "[\"('다현',200)\"]\n",
      "선택하세요(1:추가, 2:삭제, 3:종료)-->1\n",
      "추가할 데이터-->('정연',150)\n",
      "[\"('다현',200)\", \"('정연',150)\"]\n",
      "선택하세요(1:추가, 2:삭제, 3:종료)-->1\n",
      "추가할 데이터-->('모모',170)\n",
      "[\"('다현',200)\", \"('정연',150)\", \"('모모',170)\"]\n",
      "선택하세요(1:추가, 2:삭제, 3:종료)-->2\n",
      "삭제할 순서-->2\n",
      "[\"('다현',200)\", \"('모모',170)\"]\n",
      "선택하세요(1:추가, 2:삭제, 3:종료)-->2\n",
      "삭제할 순서-->3\n",
      "삭제할 데이터가 존재하지 않습니다.\n",
      "선택하세요(1:추가, 2:삭제, 3:종료)-->3\n"
     ]
    }
   ],
   "source": [
    "def add_data(friend):\n",
    "    \n",
    "    katok.append(None)\n",
    "    kLen = len(katok)\n",
    "    katok[kLen-1]=friend\n",
    "    \n",
    "katok = []\n",
    "\n",
    "if __name__==\"__main__\":\n",
    "    \n",
    "    while True:\n",
    "        select = int(input(\"선택하세요(1:추가, 2:삭제, 3:종료)-->\"))\n",
    "\n",
    "        if (select ==1):        \n",
    "                data = input(\"추가할 데이터-->\")   \n",
    "                add_data(data)\n",
    "                \n",
    "                 \n",
    "                for i in range(len(katok)):\n",
    "                    for j in range(len(katok)):\n",
    "                        if katok[i][1]<katok[j][1]:\n",
    "                            temp = katok[i]\n",
    "                            katok[i] = katok[j]\n",
    "                            katok[j] = temp\n",
    "                \n",
    "                print(katok)\n",
    "               \n",
    "        \n",
    "       \n",
    "        elif (select==2):\n",
    "            pos=int(input(\"삭제할 순서-->\"))\n",
    "\n",
    "            if pos < 0 or pos > len(katok):\n",
    "                print(\"삭제할 데이터가 존재하지 않습니다.\")\n",
    "                continue                                      # 범위 밖 오류 출력\n",
    "\n",
    "            del katok[pos - 1]\n",
    "            print(katok)\n",
    "\n",
    "        elif (select==3):\n",
    "            break"
   ]
  },
  {
   "cell_type": "code",
   "execution_count": null,
   "id": "5dbd334a",
   "metadata": {},
   "outputs": [],
   "source": []
  }
 ],
 "metadata": {
  "kernelspec": {
   "display_name": "Python 3 (ipykernel)",
   "language": "python",
   "name": "python3"
  },
  "language_info": {
   "codemirror_mode": {
    "name": "ipython",
    "version": 3
   },
   "file_extension": ".py",
   "mimetype": "text/x-python",
   "name": "python",
   "nbconvert_exporter": "python",
   "pygments_lexer": "ipython3",
   "version": "3.10.7"
  }
 },
 "nbformat": 4,
 "nbformat_minor": 5
}
