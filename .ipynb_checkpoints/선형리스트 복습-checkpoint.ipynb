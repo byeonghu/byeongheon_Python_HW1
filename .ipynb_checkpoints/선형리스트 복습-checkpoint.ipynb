{
 "cells": [
  {
   "cell_type": "code",
   "execution_count": 33,
   "id": "507ecfc9",
   "metadata": {},
   "outputs": [],
   "source": [
    "def add_data(friend):\n",
    "    \n",
    "    katok.append(None)\n",
    "    kLen = len(katok)\n",
    "    katok[kLen-1]=friend\n",
    "    \n",
    "    "
   ]
  },
  {
   "cell_type": "code",
   "execution_count": 34,
   "id": "eeef4737",
   "metadata": {},
   "outputs": [],
   "source": [
    "def insert_data(position, friend):\n",
    "    \n",
    "    if position<  0 or position >len(katok):\n",
    "        print(\"데이터를 삽입할 범위를 벗어났습니다.\")\n",
    "        return\n",
    "    \n",
    "    katok.append(None)\n",
    "    kLen = len(katok)\n",
    "    \n",
    "    for i in range(kLen-1,position,-1):\n",
    "        katok[i] = katok[i-1]\n",
    "        katok[i-1]=None\n",
    "        \n",
    "    katok[position] = friend\n",
    "    "
   ]
  },
  {
   "cell_type": "code",
   "execution_count": 35,
   "id": "489b78cd",
   "metadata": {},
   "outputs": [],
   "source": [
    "def delete_data(position):\n",
    "    \n",
    "    if position < 0 or position >len(katok):\n",
    "        print(\"데이터를 삭제를 범위를 벗어났습니다.\")\n",
    "        return\n",
    "    \n",
    "    \n",
    "    kLen = len(katok)\n",
    "    katok[position]=None\n",
    "    \n",
    "    for i in range(position+1, kLen):\n",
    "        katok[i-1]=katok[i]\n",
    "        katok[i]=None\n",
    "        \n",
    "    del(katok[kLen-1])\n",
    "    "
   ]
  },
  {
   "cell_type": "code",
   "execution_count": 36,
   "id": "91858d21",
   "metadata": {},
   "outputs": [],
   "source": [
    "katok = []\n",
    "select = -1"
   ]
  },
  {
   "cell_type": "code",
   "execution_count": 37,
   "id": "bd9acf69",
   "metadata": {},
   "outputs": [
    {
     "name": "stdout",
     "output_type": "stream",
     "text": [
      "선택하세요(1: 추가, 2: 삽입, 3:삭제,  4:종료)-->1\n",
      "추가할 데이터-->다현\n",
      "['다현']\n",
      "선택하세요(1: 추가, 2: 삽입, 3:삭제,  4:종료)-->1\n",
      "추가할 데이터-->정연\n",
      "['다현', '정연']\n",
      "선택하세요(1: 추가, 2: 삽입, 3:삭제,  4:종료)-->11\n",
      "1~4 중 하나를 입력하세요.\n",
      "선택하세요(1: 추가, 2: 삽입, 3:삭제,  4:종료)-->1\n",
      "추가할 데이터-->쯔위\n",
      "['다현', '정연', '쯔위']\n",
      "선택하세요(1: 추가, 2: 삽입, 3:삭제,  4:종료)-->2\n",
      "삽입할 위치-->1\n",
      "추가할 데이터-->하나\n",
      "['다현', '하나', '정연', '쯔위']\n",
      "선택하세요(1: 추가, 2: 삽입, 3:삭제,  4:종료)-->2\n",
      "삽입할 위치-->0\n",
      "추가할 데이터-->문별\n",
      "['문별', '다현', '하나', '정연', '쯔위']\n",
      "선택하세요(1: 추가, 2: 삽입, 3:삭제,  4:종료)-->3\n",
      "삭제할 순서-->3\n",
      "['문별', '다현', '하나', '쯔위']\n",
      "선택하세요(1: 추가, 2: 삽입, 3:삭제,  4:종료)-->4\n",
      "['문별', '다현', '하나', '쯔위']\n"
     ]
    }
   ],
   "source": [
    "if __name__==\"__main__\":\n",
    "    \n",
    "    while (select !=4):\n",
    "        \n",
    "        select = int(input(\"선택하세요(1: 추가, 2: 삽입, 3:삭제,  4:종료)-->\"))\n",
    "        \n",
    "        if (select == 1):\n",
    "            data = input(\"추가할 데이터-->\")\n",
    "            add_data(data)\n",
    "            print(katok)\n",
    "        elif (select == 2):\n",
    "            pos = int(input(\"삽입할 위치-->\"))\n",
    "            data = input(\"추가할 데이터-->\")\n",
    "            insert_data(pos, data)\n",
    "            print(katok)\n",
    "        \n",
    "        elif (select == 3):\n",
    "            pos = int(input(\"삭제할 순서-->\"))\n",
    "            delete_data(pos)\n",
    "            print(katok)\n",
    "        elif (select == 4):\n",
    "            print(katok)\n",
    "            exit\n",
    "        else :\n",
    "            print(\"1~4 중 하나를 입력하세요.\")\n",
    "            continue"
   ]
  },
  {
   "cell_type": "code",
   "execution_count": 46,
   "id": "67a4dbba",
   "metadata": {},
   "outputs": [],
   "source": [
    "class Node():\n",
    "    def __init__(self):\n",
    "        self.data = None\n",
    "        self.link = None\n",
    "\n",
    "def printNodes(start):\n",
    "    \n",
    "    current = start\n",
    "    if current == None:\n",
    "        return\n",
    "    print(current.data, end='')\n",
    "    while current.link !=None:\n",
    "        current = current.link\n",
    "        print(current.data, end='')\n",
    "    print()\n",
    "\n",
    "def findNode(findData):\n",
    "    global memory,head,current,pre\n",
    "    current = head\n",
    "    if current.data == findData:\n",
    "        return current\n",
    "    while current.link !=None:\n",
    "        current = current.link\n",
    "        if current.data == findData:\n",
    "            return current\n",
    "    return Node()\n",
    "\n",
    "memory =[]\n",
    "\n",
    "head, current, pre = None,None,None\n",
    "dataArray = [\"다현\",\"정연\",\"쯔위\",\"사나\",\"지효\"]\n",
    "\n",
    "\n",
    "if __name__ == \"__main__\":\n",
    "    \n",
    "    node = Node()\n",
    "    node.data=dataArray[0]\n",
    "    head = node\n",
    "    memory.append(node)\n",
    "    "
   ]
  },
  {
   "cell_type": "code",
   "execution_count": 47,
   "id": "5756ddfd",
   "metadata": {},
   "outputs": [
    {
     "name": "stdout",
     "output_type": "stream",
     "text": [
      "다현정연쯔위사나지효\n",
      "다현\n",
      "쯔위\n",
      "None\n"
     ]
    }
   ],
   "source": [
    "for data in dataArray[1:]:\n",
    "    pre = node\n",
    "    node = Node()\n",
    "    node.data = data\n",
    "    pre.link = node\n",
    "    memory.append(node)\n",
    "printNodes(head)\n",
    "\n",
    "fNode = findNode(\"다현\")\n",
    "print(fNode.data)\n",
    "\n",
    "fNode = findNode(\"쯔위\")\n",
    "print(fNode.data)\n",
    "\n",
    "fNode = findNode(\"재남\")\n",
    "print(fNode.data)\n",
    "\n",
    "\n",
    "\n"
   ]
  },
  {
   "cell_type": "code",
   "execution_count": null,
   "id": "73fd58d2",
   "metadata": {},
   "outputs": [],
   "source": []
  }
 ],
 "metadata": {
  "kernelspec": {
   "display_name": "Python 3 (ipykernel)",
   "language": "python",
   "name": "python3"
  },
  "language_info": {
   "codemirror_mode": {
    "name": "ipython",
    "version": 3
   },
   "file_extension": ".py",
   "mimetype": "text/x-python",
   "name": "python",
   "nbconvert_exporter": "python",
   "pygments_lexer": "ipython3",
   "version": "3.10.7"
  }
 },
 "nbformat": 4,
 "nbformat_minor": 5
}
